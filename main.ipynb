{
  "cells": [
    {
      "cell_type": "markdown",
      "metadata": {
        "id": "T5X42IP2PIWT"
      },
      "source": [
        "### 1. Environment Setup\n",
        "This cell prepares the Google Colab environment for PySpark. It performs two key actions:\n",
        "1.  **Installs Java 17:** Recent versions of Apache Spark require a modern Java Development Kit (JDK). This command installs OpenJDK 17.\n",
        "2.  **Installs PySpark:** This command installs the Python library for Spark.\n",
        "\n",
        "We also set the `JAVA_HOME` environment variable, which tells Spark where to find the installed Java runtime."
      ]
    },
    {
      "cell_type": "code",
      "execution_count": 1,
      "metadata": {
        "colab": {
          "base_uri": "https://localhost:8080/"
        },
        "id": "tkBJKdwkbztj",
        "outputId": "d2036c65-3fea-4974-82cd-efb2bc73ae84"
      },
      "outputs": [
        {
          "output_type": "stream",
          "name": "stdout",
          "text": [
            "W: Skipping acquire of configured file 'main/source/Sources' as repository 'https://r2u.stat.illinois.edu/ubuntu jammy InRelease' does not seem to provide it (sources.list entry misspelt?)\n"
          ]
        }
      ],
      "source": [
        "# Import os to set environment variables\n",
        "import os\n",
        "\n",
        "# Install JDK 17\n",
        "!apt-get update -qq > /dev/null\n",
        "!apt-get install -y openjdk-17-jdk-headless -qq > /dev/null\n",
        "os.environ[\"JAVA_HOME\"] = \"/usr/lib/jvm/java-17-openjdk-amd64\"\n",
        "\n",
        "# Install PySpark\n",
        "!pip install -q pyspark"
      ]
    },
    {
      "cell_type": "markdown",
      "metadata": {
        "id": "gxZmn7mMRtDS"
      },
      "source": [
        "### 2. Import Libraries\n",
        "In this step, we import all the necessary Python libraries for the project. These include:\n",
        "- **`pandas` & `numpy`:** For efficient data loading and manipulation.\n",
        "- **`matplotlib` & `seaborn`:** for data visualization, such as plotting the confusion matrices.\n",
        "- **`pyspark` modules:** For creating a Spark session, building the ML pipeline, training classifiers, and evaluating models."
      ]
    },
    {
      "cell_type": "code",
      "execution_count": 2,
      "metadata": {
        "collapsed": true,
        "id": "qdQKTELPcKd2"
      },
      "outputs": [],
      "source": [
        "# Data manipulation and visualization\n",
        "import pandas as pd\n",
        "import numpy as np\n",
        "import matplotlib.pyplot as plt\n",
        "import seaborn as sns\n",
        "\n",
        "# PySpark modules\n",
        "from pyspark.sql import SparkSession\n",
        "from pyspark.ml import Pipeline\n",
        "from pyspark.ml.feature import StringIndexer, VectorAssembler, StandardScaler\n",
        "from pyspark.ml.classification import RandomForestClassifier, GBTClassifier\n",
        "from pyspark.ml.evaluation import MulticlassClassificationEvaluator\n",
        "from pyspark.ml.tuning import ParamGridBuilder, CrossValidator\n",
        "from pyspark.mllib.evaluation import MulticlassMetrics\n",
        "from pyspark.ml.classification import DecisionTreeClassifier\n",
        "from pyspark.ml.classification import LogisticRegression\n"
      ]
    },
    {
      "cell_type": "markdown",
      "metadata": {
        "id": "zxpNTCNCRw1e"
      },
      "source": [
        "### 3. Start Spark Session\n",
        "The `SparkSession` is the main entry point for Spark's functionality. We create a new session with a custom application name and configure it to run on the local machine using all available CPU cores (`local[*]`) for maximum performance."
      ]
    },
    {
      "cell_type": "code",
      "execution_count": 3,
      "metadata": {
        "colab": {
          "base_uri": "https://localhost:8080/"
        },
        "collapsed": true,
        "id": "VIGlcjoxcNWd",
        "outputId": "0140c844-a687-41d2-c236-e69122a17d63"
      },
      "outputs": [
        {
          "output_type": "stream",
          "name": "stdout",
          "text": [
            "SparkSession started successfully. Spark version: 3.5.1\n"
          ]
        }
      ],
      "source": [
        "spark = SparkSession.builder \\\n",
        "    .appName(\"Heart Disease Prediction Notebook\") \\\n",
        "    .master(\"local[*]\") \\\n",
        "    .getOrCreate()\n",
        "\n",
        "print(f\"SparkSession started successfully. Spark version: {spark.version}\")"
      ]
    },
    {
      "cell_type": "markdown",
      "metadata": {
        "id": "dNvdBLfgR02p"
      },
      "source": [
        "### 4. Data Loading and Pre-processing\n",
        "\n",
        "\n",
        "This is a critical step where we clean and prepare the data for modeling using the `pandas` library. The workflow includes:\n",
        "- **Loading:** Reading the `heart_disease_uci.csv` file.\n",
        "- **Cleaning:** Dropping unnecessary columns (`id`, `dataset`) and removing duplicate rows.\n",
        "- **Encoding:** Converting categorical string values and booleans into numerical representations.\n",
        "- **Imputation:** Filling in missing (NaN) values using the median for numerical columns and the mode for categorical ones.\n",
        "- **Outlier Removal:** Filtering out extreme values from continuous features using the Interquartile Range (IQR) method.\n",
        "\n",
        "If needed, we can divide the data into two categories.\n",
        "- **Binarization:** Transforming the multi-class target variable (`num`) into a binary target (0: no disease, 1: disease) to simplify the classification task."
      ]
    },
    {
      "cell_type": "code",
      "execution_count": 4,
      "metadata": {
        "colab": {
          "base_uri": "https://localhost:8080/"
        },
        "id": "Mx85E079ciyi",
        "outputId": "1db6bd9e-782f-43fd-dca5-12b86118b758"
      },
      "outputs": [
        {
          "output_type": "stream",
          "name": "stdout",
          "text": [
            "Rows after full cleaning: 702 (from 920 initial rows)\n",
            "num\n",
            "0    378\n",
            "1    189\n",
            "3     60\n",
            "2     59\n",
            "4     16\n",
            "Name: count, dtype: int64\n"
          ]
        },
        {
          "output_type": "stream",
          "name": "stderr",
          "text": [
            "/tmp/ipython-input-4-2493269579.py:16: FutureWarning: Downcasting behavior in `replace` is deprecated and will be removed in a future version. To retain the old behavior, explicitly call `result.infer_objects(copy=False)`. To opt-in to the future behavior, set `pd.set_option('future.no_silent_downcasting', True)`\n",
            "  df['sex'] = df['sex'].replace({'Male': 1, 'Female': 0})\n",
            "/tmp/ipython-input-4-2493269579.py:25: FutureWarning: Downcasting behavior in `replace` is deprecated and will be removed in a future version. To retain the old behavior, explicitly call `result.infer_objects(copy=False)`. To opt-in to the future behavior, set `pd.set_option('future.no_silent_downcasting', True)`\n",
            "  df['cp'] = df['cp'].replace(cp_map)\n",
            "/tmp/ipython-input-4-2493269579.py:26: FutureWarning: Downcasting behavior in `replace` is deprecated and will be removed in a future version. To retain the old behavior, explicitly call `result.infer_objects(copy=False)`. To opt-in to the future behavior, set `pd.set_option('future.no_silent_downcasting', True)`\n",
            "  df['restecg'] = df['restecg'].replace(restecg_map)\n",
            "/tmp/ipython-input-4-2493269579.py:27: FutureWarning: Downcasting behavior in `replace` is deprecated and will be removed in a future version. To retain the old behavior, explicitly call `result.infer_objects(copy=False)`. To opt-in to the future behavior, set `pd.set_option('future.no_silent_downcasting', True)`\n",
            "  df['slope'] = df['slope'].replace(slope_map)\n",
            "/tmp/ipython-input-4-2493269579.py:28: FutureWarning: Downcasting behavior in `replace` is deprecated and will be removed in a future version. To retain the old behavior, explicitly call `result.infer_objects(copy=False)`. To opt-in to the future behavior, set `pd.set_option('future.no_silent_downcasting', True)`\n",
            "  df['thal'] = df['thal'].replace(thal_map)\n",
            "/tmp/ipython-input-4-2493269579.py:33: FutureWarning: A value is trying to be set on a copy of a DataFrame or Series through chained assignment using an inplace method.\n",
            "The behavior will change in pandas 3.0. This inplace method will never work because the intermediate object on which we are setting values always behaves as a copy.\n",
            "\n",
            "For example, when doing 'df[col].method(value, inplace=True)', try using 'df.method({col: value}, inplace=True)' or df[col] = df[col].method(value) instead, to perform the operation inplace on the original object.\n",
            "\n",
            "\n",
            "  df[col].fillna(df[col].median(), inplace=True)\n",
            "/tmp/ipython-input-4-2493269579.py:36: FutureWarning: A value is trying to be set on a copy of a DataFrame or Series through chained assignment using an inplace method.\n",
            "The behavior will change in pandas 3.0. This inplace method will never work because the intermediate object on which we are setting values always behaves as a copy.\n",
            "\n",
            "For example, when doing 'df[col].method(value, inplace=True)', try using 'df.method({col: value}, inplace=True)' or df[col] = df[col].method(value) instead, to perform the operation inplace on the original object.\n",
            "\n",
            "\n",
            "  df[col].fillna(df[col].mode()[0], inplace=True)\n",
            "/tmp/ipython-input-4-2493269579.py:36: FutureWarning: A value is trying to be set on a copy of a DataFrame or Series through chained assignment using an inplace method.\n",
            "The behavior will change in pandas 3.0. This inplace method will never work because the intermediate object on which we are setting values always behaves as a copy.\n",
            "\n",
            "For example, when doing 'df[col].method(value, inplace=True)', try using 'df.method({col: value}, inplace=True)' or df[col] = df[col].method(value) instead, to perform the operation inplace on the original object.\n",
            "\n",
            "\n",
            "  df[col].fillna(df[col].mode()[0], inplace=True)\n"
          ]
        }
      ],
      "source": [
        "# Load the dataset\n",
        "try:\n",
        "    df = pd.read_csv(\"heart_disease_uci.csv\")\n",
        "except FileNotFoundError:\n",
        "    print(\"\\n!!! ERROR: 'heart_disease_uci.csv' not found.\")\n",
        "    print(\"Please upload the file to your Colab environment first.\")\n",
        "    spark.stop()\n",
        "    exit()\n",
        "\n",
        "# Initial cleaning\n",
        "initial_rows = len(df)\n",
        "df = df.drop_duplicates(ignore_index=True)\n",
        "df = df.drop(columns=['id', 'dataset'])\n",
        "\n",
        "# Feature Encoding\n",
        "df['sex'] = df['sex'].replace({'Male': 1, 'Female': 0})\n",
        "df['fbs'] = df['fbs'].apply(lambda x: 1 if x is True else 0)\n",
        "df['exang'] = df['exang'].apply(lambda x: 1 if x is True else 0)\n",
        "\n",
        "cp_map = {'typical angina': 0, 'atypical angina': 1, 'non-anginal': 2, 'asymptomatic': 3}\n",
        "restecg_map = {'normal': 0, 'st-t abnormality': 1, 'lv hypertrophy': 2}\n",
        "slope_map = {'upsloping': 0, 'flat': 1, 'downsloping': 2}\n",
        "thal_map = {'normal': 0, 'fixed defect': 1, 'reversable defect': 2}\n",
        "\n",
        "df['cp'] = df['cp'].replace(cp_map)\n",
        "df['restecg'] = df['restecg'].replace(restecg_map)\n",
        "df['slope'] = df['slope'].replace(slope_map)\n",
        "df['thal'] = df['thal'].replace(thal_map)\n",
        "\n",
        "# Impute missing values\n",
        "median_cols = ['trestbps', 'chol', 'thalch', 'oldpeak']\n",
        "for col in median_cols:\n",
        "    df[col].fillna(df[col].median(), inplace=True)\n",
        "mode_cols = ['fbs', 'restecg', 'exang', 'slope', 'ca', 'thal']\n",
        "for col in mode_cols:\n",
        "    df[col].fillna(df[col].mode()[0], inplace=True)\n",
        "\n",
        "# Remove outliers from continuous numerical columns\n",
        "numerical_continuous_cols = ['age', 'trestbps', 'chol', 'thalch', 'oldpeak']\n",
        "for feature in numerical_continuous_cols:\n",
        "    Q1 = df[feature].quantile(0.25); Q3 = df[feature].quantile(0.75); IQR = Q3 - Q1\n",
        "    lower_bound = Q1 - 1.5 * IQR; upper_bound = Q3 + 1.5 * IQR\n",
        "    df = df[(df[feature] >= lower_bound) & (df[feature] <= upper_bound)]\n",
        "print(f\"Rows after full cleaning: {len(df)} (from {initial_rows} initial rows)\")\n",
        "\n",
        "# ** Key Step: If needed, we can Convert to a Binary Classification Problem **\n",
        "# df['num'] = df['num'].apply(lambda x: 1 if x > 0 else 0)\n",
        "# print(\"\\nFinal class distribution (0: No Disease, 1: Disease):\")\n",
        "print(df['num'].value_counts())"
      ]
    },
    {
      "cell_type": "markdown",
      "metadata": {
        "id": "WZ9PNL6bSAme"
      },
      "source": [
        "### 5. Create Spark DataFrame and ML Pipeline\n",
        "With the data cleaned, we now transition from `pandas` to `pyspark`.\n",
        "- **Convert to Spark DataFrame:** The cleaned pandas DataFrame is converted into a Spark DataFrame, which allows for distributed processing.\n",
        "- **Define ML Pipeline:** We create a `Pipeline` to structure our feature engineering workflow. This pipeline automatically handles the indexing of categorical features and assembles all features into a single vector (`features`) required by Spark's ML models.\n",
        "- **Split Data:** The prepared dataset is split into a training set (80%) and a testing set (20%). The model will be trained on the training data and evaluated on the unseen testing data."
      ]
    },
    {
      "cell_type": "code",
      "execution_count": 5,
      "metadata": {
        "id": "CuqFvF1goQxe",
        "colab": {
          "base_uri": "https://localhost:8080/"
        },
        "outputId": "d8fb1697-5aa0-41b0-beda-ae27634a2c7e"
      },
      "outputs": [
        {
          "output_type": "stream",
          "name": "stdout",
          "text": [
            "\n",
            "Training data count: 562, Test data count: 140\n"
          ]
        }
      ],
      "source": [
        "# Convert pandas DataFrame to Spark DataFrame\n",
        "spark_df = spark.createDataFrame(df)\n",
        "spark_df = spark_df.withColumnRenamed(\"num\", \"label\")\n",
        "\n",
        "# Define feature columns\n",
        "categorical_cols = ['sex', 'cp', 'fbs', 'restecg', 'exang', 'slope', 'ca', 'thal']\n",
        "numeric_cols = ['age', 'trestbps', 'chol', 'thalch', 'oldpeak']\n",
        "\n",
        "# Define pipeline stages\n",
        "indexers = [StringIndexer(inputCol=col, outputCol=col + \"_indexed\", handleInvalid=\"keep\") for col in categorical_cols]\n",
        "assembler = VectorAssembler(inputCols=numeric_cols + [c + \"_indexed\" for c in categorical_cols], outputCol=\"features\")\n",
        "\n",
        "# Create the full pipeline\n",
        "pipeline = Pipeline(stages=indexers + [assembler])\n",
        "\n",
        "# Fit the pipeline to the data and transform it\n",
        "pipeline_model = pipeline.fit(spark_df)\n",
        "final_df = pipeline_model.transform(spark_df)\n",
        "\n",
        "# Split the data into training and test sets\n",
        "train_data, test_data = final_df.randomSplit([0.8, 0.2], seed=17)\n",
        "print(f\"\\nTraining data count: {train_data.count()}, Test data count: {test_data.count()}\")"
      ]
    },
    {
      "cell_type": "markdown",
      "metadata": {
        "id": "CDopZ0kfSGc0"
      },
      "source": [
        "### 6. Train and Evaluate RandomForest Model\n",
        "We train our first model, a `RandomForestClassifier`. To achieve the best performance, we don't use default parameters. Instead, we use `CrossValidator` to perform hyperparameter tuning. It automatically tests different combinations of `numTrees` (number of trees) and `maxDepth` (tree depth) and selects the best-performing model based on accuracy. The final model is then evaluated on the test set."
      ]
    },
    {
      "cell_type": "code",
      "execution_count": 6,
      "metadata": {
        "colab": {
          "base_uri": "https://localhost:8080/"
        },
        "id": "GCDoQoldoQ9-",
        "outputId": "29a94add-76e4-484f-da73-e6f001a78418"
      },
      "outputs": [
        {
          "output_type": "stream",
          "name": "stdout",
          "text": [
            "\n",
            "RandomForest Model (Tuned) Metrics:\n",
            "Accuracy: 0.629\n",
            "Precision: 0.492\n",
            "Recall: 0.629\n",
            "F1-Score: 0.552\n"
          ]
        }
      ],
      "source": [
        "# Define the evaluators\n",
        "evaluator_accuracy = MulticlassClassificationEvaluator(metricName=\"accuracy\")\n",
        "evaluator_precision = MulticlassClassificationEvaluator(metricName=\"weightedPrecision\")\n",
        "evaluator_recall = MulticlassClassificationEvaluator(metricName=\"weightedRecall\")\n",
        "evaluator_f1 = MulticlassClassificationEvaluator(metricName=\"f1\")\n",
        "\n",
        "# Define the model\n",
        "rf = RandomForestClassifier(featuresCol=\"features\", labelCol=\"label\", seed=17)\n",
        "\n",
        "# Define the parameter grid for hyperparameter tuning\n",
        "paramGrid_rf = (ParamGridBuilder()\n",
        "             .addGrid(rf.numTrees, [50, 100, 150, 200])\n",
        "             .addGrid(rf.maxDepth, [5, 10, 15])\n",
        "             .build())\n",
        "\n",
        "# Set up the CrossValidator\n",
        "cv_rf = CrossValidator(estimator=rf, estimatorParamMaps=paramGrid_rf, evaluator=evaluator_accuracy, numFolds=3, seed=17)\n",
        "\n",
        "# Train the model\n",
        "cv_model_rf = cv_rf.fit(train_data)\n",
        "\n",
        "# Make predictions on the test data\n",
        "rf_predictions = cv_model_rf.transform(test_data)\n",
        "\n",
        "# Evaluate the model\n",
        "rf_accuracy = evaluator_accuracy.evaluate(rf_predictions)\n",
        "rf_precision = evaluator_precision.evaluate(rf_predictions)\n",
        "rf_recall = evaluator_recall.evaluate(rf_predictions)\n",
        "rf_f1 = evaluator_f1.evaluate(rf_predictions)\n",
        "\n",
        "print(f\"\\nRandomForest Model (Tuned) Metrics:\")\n",
        "print(f\"Accuracy: {rf_accuracy:.3f}\")\n",
        "print(f\"Precision: {rf_precision:.3f}\")\n",
        "print(f\"Recall: {rf_recall:.3f}\")\n",
        "print(f\"F1-Score: {rf_f1:.3f}\")"
      ]
    },
    {
      "cell_type": "markdown",
      "metadata": {
        "id": "rENlsWtDSLn9"
      },
      "source": [
        "### 7. Train and Evaluate DecisionTree Model  \n",
        "We train a `DecisionTreeClassifier` model. Instead of using default parameters, we perform hyperparameter tuning using `CrossValidator`. It automatically tests multiple combinations of `maxDepth` (maximum tree depth) and `maxBins` (number of bins used for discretizing continuous features) to find the best configuration. The best model is then evaluated on the test set using accuracy as the evaluation metric.\n"
      ]
    },
    {
      "cell_type": "code",
      "execution_count": 7,
      "metadata": {
        "id": "oSc9UAudoRA4",
        "colab": {
          "base_uri": "https://localhost:8080/"
        },
        "outputId": "cc91561b-a96d-4d5a-a142-c166b9f96e23"
      },
      "outputs": [
        {
          "output_type": "stream",
          "name": "stdout",
          "text": [
            "\n",
            "Decision Tree Model Metrics:\n",
            "Accuracy: 0.614\n",
            "Precision: 0.509\n",
            "Recall: 0.614\n",
            "F1-Score: 0.554\n"
          ]
        }
      ],
      "source": [
        "dt = DecisionTreeClassifier(labelCol=\"label\", featuresCol=\"features\", seed=17)\n",
        "\n",
        "evaluator = MulticlassClassificationEvaluator(labelCol=\"label\", predictionCol=\"prediction\", metricName=\"accuracy\")\n",
        "\n",
        "# Grid\n",
        "dt_paramGrid = ParamGridBuilder() \\\n",
        "    .addGrid(dt.maxDepth, [3, 5, 10]) \\\n",
        "    .addGrid(dt.maxBins, [16, 32]) \\\n",
        "    .build()\n",
        "\n",
        "# CrossValidator\n",
        "dt_cv = CrossValidator(estimator=dt,\n",
        "                       estimatorParamMaps=dt_paramGrid,\n",
        "                       evaluator=evaluator,\n",
        "                       numFolds=5,\n",
        "                       seed=17)\n",
        "\n",
        "dt_model = dt_cv.fit(train_data)\n",
        "\n",
        "dt_predictions = dt_model.transform(test_data)\n",
        "\n",
        "# Decision Tree Results\n",
        "dt_accuracy = evaluator_accuracy.evaluate(dt_predictions)\n",
        "dt_precision = evaluator_precision.evaluate(dt_predictions)\n",
        "dt_recall = evaluator_recall.evaluate(dt_predictions)\n",
        "dt_f1 = evaluator_f1.evaluate(dt_predictions)\n",
        "\n",
        "print(f\"\\nDecision Tree Model Metrics:\")\n",
        "print(f\"Accuracy: {dt_accuracy:.3f}\")\n",
        "print(f\"Precision: {dt_precision:.3f}\")\n",
        "print(f\"Recall: {dt_recall:.3f}\")\n",
        "print(f\"F1-Score: {dt_f1:.3f}\")\n"
      ]
    },
    {
      "cell_type": "markdown",
      "source": [
        "### 8. Train and Evaluate LogisticRegression Model  \n",
        "We train a `LogisticRegression` model suitable for multi-class classification. To improve performance, we use `CrossValidator` to tune `regParam` (regularization strength) and `elasticNetParam` (balance between L1 and L2 regularization). The cross-validation process selects the best model based on accuracy, and we then evaluate it on the test set."
      ],
      "metadata": {
        "id": "onPl7sPUY7J9"
      }
    },
    {
      "cell_type": "code",
      "execution_count": 8,
      "metadata": {
        "id": "bLqVqPCzPeSS",
        "colab": {
          "base_uri": "https://localhost:8080/"
        },
        "outputId": "0f3512e4-7d4d-49d8-d435-dce0a8feedb2"
      },
      "outputs": [
        {
          "output_type": "stream",
          "name": "stdout",
          "text": [
            "\n",
            "Logistic Regression Model Metrics:\n",
            "Accuracy: 0.621\n",
            "Precision: 0.495\n",
            "Recall: 0.621\n",
            "F1-Score: 0.551\n"
          ]
        }
      ],
      "source": [
        "lr = LogisticRegression(labelCol=\"label\", featuresCol=\"features\", maxIter=100)\n",
        "\n",
        "# Grid\n",
        "lr_paramGrid = ParamGridBuilder() \\\n",
        "    .addGrid(lr.regParam, [0.01, 0.1, 1.0]) \\\n",
        "    .addGrid(lr.elasticNetParam, [0.0, 0.5, 1.0]) \\\n",
        "    .build()\n",
        "\n",
        "# CrossValidator\n",
        "lr_cv = CrossValidator(estimator=lr,\n",
        "                       estimatorParamMaps=lr_paramGrid,\n",
        "                       evaluator=evaluator,\n",
        "                       numFolds=5,\n",
        "                       seed=17)\n",
        "\n",
        "lr_model = lr_cv.fit(train_data)\n",
        "\n",
        "lr_predictions = lr_model.transform(test_data)\n",
        "\n",
        "# Logistic Regression Results\n",
        "lr_accuracy = evaluator_accuracy.evaluate(lr_predictions)\n",
        "lr_precision = evaluator_precision.evaluate(lr_predictions)\n",
        "lr_recall = evaluator_recall.evaluate(lr_predictions)\n",
        "lr_f1 = evaluator_f1.evaluate(lr_predictions)\n",
        "\n",
        "print(f\"\\nLogistic Regression Model Metrics:\")\n",
        "print(f\"Accuracy: {lr_accuracy:.3f}\")\n",
        "print(f\"Precision: {lr_precision:.3f}\")\n",
        "print(f\"Recall: {lr_recall:.3f}\")\n",
        "print(f\"F1-Score: {lr_f1:.3f}\")\n"
      ]
    },
    {
      "cell_type": "markdown",
      "metadata": {
        "id": "gAwK3E27SPMW"
      },
      "source": [
        "### 9. Feature Importance Analysis\n",
        "To better understand what our `RandomForest` model has learned, we analyze its feature importances. This shows which features had the most influence on the model's predictions. High-importance features are the most critical for distinguishing between patients with and without heart disease. This step provides valuable insights into the data and validates that the model is learning medically relevant patterns."
      ]
    },
    {
      "cell_type": "code",
      "execution_count": 9,
      "metadata": {
        "id": "HGHgd79HoRD2",
        "colab": {
          "base_uri": "https://localhost:8080/"
        },
        "outputId": "795c783b-ce2f-441d-b2a2-86c80e2e24d9"
      },
      "outputs": [
        {
          "output_type": "stream",
          "name": "stdout",
          "text": [
            "\n",
            "Top 10 Feature Importances in RandomForest Model:\n",
            "          feature  importance\n",
            "6      cp_indexed    0.203256\n",
            "9   exang_indexed    0.143596\n",
            "4         oldpeak    0.131165\n",
            "0             age    0.130073\n",
            "3          thalch    0.087802\n",
            "11     ca_indexed    0.066579\n",
            "2            chol    0.053721\n",
            "1        trestbps    0.043270\n",
            "5     sex_indexed    0.041117\n",
            "12   thal_indexed    0.035037\n"
          ]
        }
      ],
      "source": [
        "# Extract the best model from the CrossValidator\n",
        "best_rf_model = cv_model_rf.bestModel\n",
        "\n",
        "# Get feature importances\n",
        "feature_importances = best_rf_model.featureImportances\n",
        "\n",
        "# Match feature names to importance scores\n",
        "# Note: The order comes from the final assembler stage in the pipeline\n",
        "final_cols_for_importance = numeric_cols + [c + \"_indexed\" for c in categorical_cols]\n",
        "importances_df = pd.DataFrame(\n",
        "    list(zip(final_cols_for_importance, feature_importances)),\n",
        "    columns=['feature', 'importance']\n",
        ").sort_values('importance', ascending=False)\n",
        "\n",
        "print(\"\\nTop 10 Feature Importances in RandomForest Model:\")\n",
        "print(importances_df.head(10))"
      ]
    },
    {
      "cell_type": "markdown",
      "metadata": {
        "id": "HBBa4vnCSXai"
      },
      "source": [
        "### 10. Confusion Matrix Visualization\n",
        "Accuracy provides a single performance metric, but a confusion matrix offers a more detailed breakdown. It visualizes the performance of each model by showing:\n",
        "- **True Positives (TP):** Correctly predicted as having disease.\n",
        "- **True Negatives (TN):** Correctly predicted as not having disease.\n",
        "- **False Positives (FP):** Incorrectly predicted as having disease.\n",
        "- **False Negatives (FN):** Incorrectly predicted as not having disease.\n",
        "\n",
        "This helps us understand what kind of errors our models are making."
      ]
    },
    {
      "cell_type": "code",
      "execution_count": 10,
      "metadata": {
        "id": "IXRe0kT3oRJ9",
        "colab": {
          "base_uri": "https://localhost:8080/",
          "height": 1000
        },
        "outputId": "1897c683-e411-4d7d-de4e-2022d6e4be17"
      },
      "outputs": [
        {
          "output_type": "stream",
          "name": "stderr",
          "text": [
            "/usr/local/lib/python3.11/dist-packages/pyspark/sql/context.py:158: FutureWarning: Deprecated in 3.0.0. Use SparkSession.builder.getOrCreate() instead.\n",
            "  warnings.warn(\n"
          ]
        },
        {
          "output_type": "display_data",
          "data": {
            "text/plain": [
              "<Figure size 700x600 with 2 Axes>"
            ],
            "image/png": "[encoded data removed]"
          },
          "metadata": {}
        },
        {
          "output_type": "stream",
          "name": "stderr",
          "text": [
            "/usr/local/lib/python3.11/dist-packages/pyspark/sql/context.py:158: FutureWarning: Deprecated in 3.0.0. Use SparkSession.builder.getOrCreate() instead.\n",
            "  warnings.warn(\n"
          ]
        },
        {
          "output_type": "display_data",
          "data": {
            "text/plain": [
              "<Figure size 700x600 with 2 Axes>"
            ],
            "image/png": "[encoded data removed]"
          },
          "metadata": {}
        },
        {
          "output_type": "stream",
          "name": "stderr",
          "text": [
            "/usr/local/lib/python3.11/dist-packages/pyspark/sql/context.py:158: FutureWarning: Deprecated in 3.0.0. Use SparkSession.builder.getOrCreate() instead.\n",
            "  warnings.warn(\n"
          ]
        },
        {
          "output_type": "display_data",
          "data": {
            "text/plain": [
              "<Figure size 700x600 with 2 Axes>"
            ],
            "image/png": "[encoded data removed]"
          },
          "metadata": {}
        }
      ],
      "source": [
        "def plot_confusion_matrix(predictions, model_name, num_classes=5):\n",
        "    \"\"\"\n",
        "    Plots the confusion matrix for classification results.\n",
        "\n",
        "    Parameters:\n",
        "    - predictions: Spark DataFrame with 'prediction' and 'label' columns\n",
        "    - model_name: name of the model (str) for plot title\n",
        "    - num_classes: number of classes (default is 5)\n",
        "    \"\"\"\n",
        "    preds_and_labels = predictions.select(['prediction', 'label']).rdd.map(\n",
        "        lambda row: (float(row.prediction), float(row.label))\n",
        "    )\n",
        "    metrics = MulticlassMetrics(preds_and_labels)\n",
        "    confusion_matrix = metrics.confusionMatrix().toArray()\n",
        "\n",
        "    labels = [f'Class {i}' for i in range(num_classes)]\n",
        "\n",
        "    plt.figure(figsize=(7, 6))\n",
        "    sns.heatmap(\n",
        "        confusion_matrix, annot=True, fmt='.0f', cmap='Blues',\n",
        "        xticklabels=labels, yticklabels=labels\n",
        "    )\n",
        "    plt.xlabel('Predicted Label')\n",
        "    plt.ylabel('True Label')\n",
        "    plt.title(f'Confusion Matrix for {model_name}')\n",
        "    plt.show()\n",
        "\n",
        "\n",
        "# Plot for models\n",
        "plot_confusion_matrix(rf_predictions, \"Random Forest\")\n",
        "plot_confusion_matrix(dt_predictions, \"Decision Tree\")\n",
        "plot_confusion_matrix(lr_predictions, \"Logistic Regression\")\n"
      ]
    },
    {
      "cell_type": "markdown",
      "metadata": {
        "id": "ME-HSH6NScaU"
      },
      "source": [
        "### 10. Stop Spark Session\n",
        "Finally, we stop the `SparkSession`. This is a crucial cleanup step that releases all the computational resources (memory and CPU cores) used by Spark, ensuring the notebook environment remains clean."
      ]
    },
    {
      "cell_type": "code",
      "execution_count": 11,
      "metadata": {
        "id": "1rObCpqWoRMS",
        "colab": {
          "base_uri": "https://localhost:8080/"
        },
        "outputId": "a3baba46-8669-4218-d0cb-787b8f0109a6"
      },
      "outputs": [
        {
          "output_type": "stream",
          "name": "stdout",
          "text": [
            "SparkSession stopped.\n"
          ]
        }
      ],
      "source": [
        "spark.stop()\n",
        "print(\"SparkSession stopped.\")"
      ]
    }
  ],
  "metadata": {
    "accelerator": "GPU",
    "colab": {
      "gpuType": "T4",
      "provenance": []
    },
    "kernelspec": {
      "display_name": "Python 3",
      "name": "python3"
    },
    "language_info": {
      "name": "python"
    }
  },
  "nbformat": 4,
  "nbformat_minor": 0
}