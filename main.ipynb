{
  "nbformat": 4,
  "nbformat_minor": 0,
  "metadata": {
    "colab": {
      "provenance": []
    },
    "kernelspec": {
      "name": "python3",
      "display_name": "Python 3"
    },
    "language_info": {
      "name": "python"
    }
  },
  "cells": [
    {
      "cell_type": "markdown",
      "source": [
        "### 1. Environment Setup\n",
        "This cell prepares the Google Colab environment for PySpark. It performs two key actions:\n",
        "1.  **Installs Java 17:** Recent versions of Apache Spark require a modern Java Development Kit (JDK). This command installs OpenJDK 17.\n",
        "2.  **Installs PySpark:** This command installs the Python library for Spark.\n",
        "\n",
        "We also set the `JAVA_HOME` environment variable, which tells Spark where to find the installed Java runtime."
      ],
      "metadata": {
        "id": "T5X42IP2PIWT"
      }
    },
    {
      "cell_type": "code",
      "execution_count": 11,
      "metadata": {
        "colab": {
          "base_uri": "https://localhost:8080/"
        },
        "id": "tkBJKdwkbztj",
        "outputId": "a22f2d84-fef8-4e90-e36a-a58ca98cbcc3"
      },
      "outputs": [
        {
          "output_type": "stream",
          "name": "stdout",
          "text": [
            "W: Skipping acquire of configured file 'main/source/Sources' as repository 'https://r2u.stat.illinois.edu/ubuntu jammy InRelease' does not seem to provide it (sources.list entry misspelt?)\n"
          ]
        }
      ],
      "source": [
        "# Import os to set environment variables\n",
        "import os\n",
        "\n",
        "# Install JDK 17\n",
        "!apt-get update -qq > /dev/null\n",
        "!apt-get install -y openjdk-17-jdk-headless -qq > /dev/null\n",
        "os.environ[\"JAVA_HOME\"] = \"/usr/lib/jvm/java-17-openjdk-amd64\"\n",
        "\n",
        "# Install PySpark\n",
        "!pip install -q pyspark"
      ]
    },
    {
      "cell_type": "markdown",
      "source": [
        "### 2. Import Libraries\n",
        "In this step, we import all the necessary Python libraries for the project. These include:\n",
        "- **`pandas` & `numpy`:** For efficient data loading and manipulation.\n",
        "- **`matplotlib` & `seaborn`:** for data visualization, such as plotting the confusion matrices.\n",
        "- **`pyspark` modules:** For creating a Spark session, building the ML pipeline, training classifiers, and evaluating models."
      ],
      "metadata": {
        "id": "gxZmn7mMRtDS"
      }
    },
    {
      "cell_type": "code",
      "source": [
        "# Data manipulation and visualization\n",
        "import pandas as pd\n",
        "import numpy as np\n",
        "import matplotlib.pyplot as plt\n",
        "import seaborn as sns\n",
        "\n",
        "# PySpark modules\n",
        "from pyspark.sql import SparkSession\n",
        "from pyspark.ml import Pipeline\n",
        "from pyspark.ml.feature import StringIndexer, VectorAssembler, StandardScaler\n",
        "from pyspark.ml.classification import RandomForestClassifier, GBTClassifier\n",
        "from pyspark.ml.evaluation import MulticlassClassificationEvaluator\n",
        "from pyspark.ml.tuning import ParamGridBuilder, CrossValidator\n",
        "from pyspark.mllib.evaluation import MulticlassMetrics\n"
      ],
      "metadata": {
        "id": "qdQKTELPcKd2",
        "collapsed": true
      },
      "execution_count": 12,
      "outputs": []
    },
    {
      "cell_type": "markdown",
      "source": [
        "### 3. Start Spark Session\n",
        "The `SparkSession` is the main entry point for Spark's functionality. We create a new session with a custom application name and configure it to run on the local machine using all available CPU cores (`local[*]`) for maximum performance."
      ],
      "metadata": {
        "id": "zxpNTCNCRw1e"
      }
    },
    {
      "cell_type": "code",
      "source": [
        "spark = SparkSession.builder \\\n",
        "    .appName(\"Heart Disease Prediction Notebook\") \\\n",
        "    .master(\"local[*]\") \\\n",
        "    .getOrCreate()\n",
        "\n",
        "print(f\"SparkSession started successfully. Spark version: {spark.version}\")"
      ],
      "metadata": {
        "id": "VIGlcjoxcNWd",
        "colab": {
          "base_uri": "https://localhost:8080/"
        },
        "collapsed": true,
        "outputId": "721bdf20-def5-4cb3-ec76-ebd22f53cc16"
      },
      "execution_count": 13,
      "outputs": [
        {
          "output_type": "stream",
          "name": "stdout",
          "text": [
            "SparkSession started successfully. Spark version: 3.5.1\n"
          ]
        }
      ]
    },
    {
      "cell_type": "markdown",
      "source": [
        "### 4. Data Loading and Pre-processing\n",
        "This is a critical step where we clean and prepare the data for modeling using the `pandas` library. The workflow includes:\n",
        "- **Loading:** Reading the `heart_disease_uci.csv` file.\n",
        "- **Cleaning:** Dropping unnecessary columns (`id`, `dataset`) and removing duplicate rows.\n",
        "- **Encoding:** Converting categorical string values and booleans into numerical representations.\n",
        "- **Imputation:** Filling in missing (NaN) values using the median for numerical columns and the mode for categorical ones.\n",
        "- **Outlier Removal:** Filtering out extreme values from continuous features using the Interquartile Range (IQR) method.\n",
        "- **Binarization:** Transforming the multi-class target variable (`num`) into a binary target (0: no disease, 1: disease) to simplify the classification task."
      ],
      "metadata": {
        "id": "dNvdBLfgR02p"
      }
    },
    {
      "cell_type": "code",
      "source": [
        "# Load the dataset\n",
        "try:\n",
        "    df = pd.read_csv(\"heart_disease_uci.csv\")\n",
        "except FileNotFoundError:\n",
        "    print(\"\\n!!! ERROR: 'heart_disease_uci.csv' not found.\")\n",
        "    print(\"Please upload the file to your Colab environment first.\")\n",
        "    spark.stop()\n",
        "    exit()\n",
        "\n",
        "# Initial cleaning\n",
        "initial_rows = len(df)\n",
        "df = df.drop_duplicates(ignore_index=True)\n",
        "df = df.drop(columns=['id', 'dataset'])\n",
        "\n",
        "# Feature Encoding\n",
        "df['sex'] = df['sex'].replace({'Male': 1, 'Female': 0})\n",
        "df['fbs'] = df['fbs'].apply(lambda x: 1 if x is True else 0)\n",
        "df['exang'] = df['exang'].apply(lambda x: 1 if x is True else 0)\n",
        "\n",
        "cp_map = {'typical angina': 0, 'atypical angina': 1, 'non-anginal': 2, 'asymptomatic': 3}\n",
        "restecg_map = {'normal': 0, 'st-t abnormality': 1, 'lv hypertrophy': 2}\n",
        "slope_map = {'upsloping': 0, 'flat': 1, 'downsloping': 2}\n",
        "thal_map = {'normal': 0, 'fixed defect': 1, 'reversable defect': 2}\n",
        "\n",
        "df['cp'] = df['cp'].replace(cp_map)\n",
        "df['restecg'] = df['restecg'].replace(restecg_map)\n",
        "df['slope'] = df['slope'].replace(slope_map)\n",
        "df['thal'] = df['thal'].replace(thal_map)\n",
        "\n",
        "# Impute missing values\n",
        "median_cols = ['trestbps', 'chol', 'thalch', 'oldpeak']\n",
        "for col in median_cols:\n",
        "    df[col].fillna(df[col].median(), inplace=True)\n",
        "mode_cols = ['fbs', 'restecg', 'exang', 'slope', 'ca', 'thal']\n",
        "for col in mode_cols:\n",
        "    df[col].fillna(df[col].mode()[0], inplace=True)\n",
        "\n",
        "# Remove outliers from continuous numerical columns\n",
        "numerical_continuous_cols = ['age', 'trestbps', 'chol', 'thalch', 'oldpeak']\n",
        "for feature in numerical_continuous_cols:\n",
        "    Q1 = df[feature].quantile(0.25); Q3 = df[feature].quantile(0.75); IQR = Q3 - Q1\n",
        "    lower_bound = Q1 - 1.5 * IQR; upper_bound = Q3 + 1.5 * IQR\n",
        "    df = df[(df[feature] >= lower_bound) & (df[feature] <= upper_bound)]\n",
        "print(f\"Rows after full cleaning: {len(df)} (from {initial_rows} initial rows)\")\n",
        "\n",
        "# ** Key Step: Convert to a Binary Classification Problem **\n",
        "df['num'] = df['num'].apply(lambda x: 1 if x > 0 else 0)\n",
        "print(\"\\nFinal class distribution (0: No Disease, 1: Disease):\")\n",
        "print(df['num'].value_counts())"
      ],
      "metadata": {
        "colab": {
          "base_uri": "https://localhost:8080/"
        },
        "id": "Mx85E079ciyi",
        "outputId": "6dae9c4a-b7f9-4be1-aa76-bfc8d9da895a"
      },
      "execution_count": 14,
      "outputs": [
        {
          "output_type": "stream",
          "name": "stdout",
          "text": [
            "Rows after full cleaning: 702 (from 920 initial rows)\n",
            "\n",
            "Final class distribution (0: No Disease, 1: Disease):\n",
            "num\n",
            "0    378\n",
            "1    324\n",
            "Name: count, dtype: int64\n"
          ]
        },
        {
          "output_type": "stream",
          "name": "stderr",
          "text": [
            "/tmp/ipython-input-14-1256305849.py:16: FutureWarning: Downcasting behavior in `replace` is deprecated and will be removed in a future version. To retain the old behavior, explicitly call `result.infer_objects(copy=False)`. To opt-in to the future behavior, set `pd.set_option('future.no_silent_downcasting', True)`\n",
            "  df['sex'] = df['sex'].replace({'Male': 1, 'Female': 0})\n",
            "/tmp/ipython-input-14-1256305849.py:25: FutureWarning: Downcasting behavior in `replace` is deprecated and will be removed in a future version. To retain the old behavior, explicitly call `result.infer_objects(copy=False)`. To opt-in to the future behavior, set `pd.set_option('future.no_silent_downcasting', True)`\n",
            "  df['cp'] = df['cp'].replace(cp_map)\n",
            "/tmp/ipython-input-14-1256305849.py:26: FutureWarning: Downcasting behavior in `replace` is deprecated and will be removed in a future version. To retain the old behavior, explicitly call `result.infer_objects(copy=False)`. To opt-in to the future behavior, set `pd.set_option('future.no_silent_downcasting', True)`\n",
            "  df['restecg'] = df['restecg'].replace(restecg_map)\n",
            "/tmp/ipython-input-14-1256305849.py:27: FutureWarning: Downcasting behavior in `replace` is deprecated and will be removed in a future version. To retain the old behavior, explicitly call `result.infer_objects(copy=False)`. To opt-in to the future behavior, set `pd.set_option('future.no_silent_downcasting', True)`\n",
            "  df['slope'] = df['slope'].replace(slope_map)\n",
            "/tmp/ipython-input-14-1256305849.py:28: FutureWarning: Downcasting behavior in `replace` is deprecated and will be removed in a future version. To retain the old behavior, explicitly call `result.infer_objects(copy=False)`. To opt-in to the future behavior, set `pd.set_option('future.no_silent_downcasting', True)`\n",
            "  df['thal'] = df['thal'].replace(thal_map)\n",
            "/tmp/ipython-input-14-1256305849.py:33: FutureWarning: A value is trying to be set on a copy of a DataFrame or Series through chained assignment using an inplace method.\n",
            "The behavior will change in pandas 3.0. This inplace method will never work because the intermediate object on which we are setting values always behaves as a copy.\n",
            "\n",
            "For example, when doing 'df[col].method(value, inplace=True)', try using 'df.method({col: value}, inplace=True)' or df[col] = df[col].method(value) instead, to perform the operation inplace on the original object.\n",
            "\n",
            "\n",
            "  df[col].fillna(df[col].median(), inplace=True)\n",
            "/tmp/ipython-input-14-1256305849.py:36: FutureWarning: A value is trying to be set on a copy of a DataFrame or Series through chained assignment using an inplace method.\n",
            "The behavior will change in pandas 3.0. This inplace method will never work because the intermediate object on which we are setting values always behaves as a copy.\n",
            "\n",
            "For example, when doing 'df[col].method(value, inplace=True)', try using 'df.method({col: value}, inplace=True)' or df[col] = df[col].method(value) instead, to perform the operation inplace on the original object.\n",
            "\n",
            "\n",
            "  df[col].fillna(df[col].mode()[0], inplace=True)\n",
            "/tmp/ipython-input-14-1256305849.py:36: FutureWarning: A value is trying to be set on a copy of a DataFrame or Series through chained assignment using an inplace method.\n",
            "The behavior will change in pandas 3.0. This inplace method will never work because the intermediate object on which we are setting values always behaves as a copy.\n",
            "\n",
            "For example, when doing 'df[col].method(value, inplace=True)', try using 'df.method({col: value}, inplace=True)' or df[col] = df[col].method(value) instead, to perform the operation inplace on the original object.\n",
            "\n",
            "\n",
            "  df[col].fillna(df[col].mode()[0], inplace=True)\n"
          ]
        }
      ]
    },
    {
      "cell_type": "markdown",
      "source": [
        "### 5. Create Spark DataFrame and ML Pipeline\n",
        "With the data cleaned, we now transition from `pandas` to `pyspark`.\n",
        "- **Convert to Spark DataFrame:** The cleaned pandas DataFrame is converted into a Spark DataFrame, which allows for distributed processing.\n",
        "- **Define ML Pipeline:** We create a `Pipeline` to structure our feature engineering workflow. This pipeline automatically handles the indexing of categorical features and assembles all features into a single vector (`features`) required by Spark's ML models.\n",
        "- **Split Data:** The prepared dataset is split into a training set (80%) and a testing set (20%). The model will be trained on the training data and evaluated on the unseen testing data."
      ],
      "metadata": {
        "id": "WZ9PNL6bSAme"
      }
    },
    {
      "cell_type": "code",
      "source": [
        "# Convert pandas DataFrame to Spark DataFrame\n",
        "spark_df = spark.createDataFrame(df)\n",
        "spark_df = spark_df.withColumnRenamed(\"num\", \"label\")\n",
        "\n",
        "# Define feature columns\n",
        "categorical_cols = ['sex', 'cp', 'fbs', 'restecg', 'exang', 'slope', 'ca', 'thal']\n",
        "numeric_cols = ['age', 'trestbps', 'chol', 'thalch', 'oldpeak']\n",
        "\n",
        "# Define pipeline stages\n",
        "indexers = [StringIndexer(inputCol=col, outputCol=col + \"_indexed\", handleInvalid=\"keep\") for col in categorical_cols]\n",
        "assembler = VectorAssembler(inputCols=numeric_cols + [c + \"_indexed\" for c in categorical_cols], outputCol=\"features\")\n",
        "\n",
        "# Create the full pipeline\n",
        "pipeline = Pipeline(stages=indexers + [assembler])\n",
        "\n",
        "# Fit the pipeline to the data and transform it\n",
        "pipeline_model = pipeline.fit(spark_df)\n",
        "final_df = pipeline_model.transform(spark_df)\n",
        "\n",
        "# Split the data into training and test sets\n",
        "train_data, test_data = final_df.randomSplit([0.8, 0.2], seed=42)\n",
        "print(f\"\\nTraining data count: {train_data.count()}, Test data count: {test_data.count()}\")"
      ],
      "metadata": {
        "colab": {
          "base_uri": "https://localhost:8080/"
        },
        "id": "CuqFvF1goQxe",
        "outputId": "c8b165b9-c811-41d0-fb13-2a9880e0012b"
      },
      "execution_count": 15,
      "outputs": [
        {
          "output_type": "stream",
          "name": "stdout",
          "text": [
            "\n",
            "Training data count: 577, Test data count: 125\n"
          ]
        }
      ]
    },
    {
      "cell_type": "markdown",
      "source": [
        "### 6. Train and Evaluate RandomForest Model\n",
        "We train our first model, a `RandomForestClassifier`. To achieve the best performance, we don't use default parameters. Instead, we use `CrossValidator` to perform hyperparameter tuning. It automatically tests different combinations of `numTrees` (number of trees) and `maxDepth` (tree depth) and selects the best-performing model based on accuracy. The final model is then evaluated on the test set."
      ],
      "metadata": {
        "id": "CDopZ0kfSGc0"
      }
    },
    {
      "cell_type": "code",
      "source": [
        "# Define the evaluator\n",
        "evaluator_accuracy = MulticlassClassificationEvaluator(metricName=\"accuracy\")\n",
        "\n",
        "# Define the model\n",
        "rf = RandomForestClassifier(featuresCol=\"features\", labelCol=\"label\", seed=42)\n",
        "\n",
        "# Define the parameter grid for hyperparameter tuning\n",
        "paramGrid_rf = (ParamGridBuilder()\n",
        "             .addGrid(rf.numTrees, [50, 100])\n",
        "             .addGrid(rf.maxDepth, [5, 10])\n",
        "             .build())\n",
        "\n",
        "# Set up the CrossValidator\n",
        "cv_rf = CrossValidator(estimator=rf, estimatorParamMaps=paramGrid_rf, evaluator=evaluator_accuracy, numFolds=3, seed=42)\n",
        "\n",
        "# Train the model\n",
        "cv_model_rf = cv_rf.fit(train_data)\n",
        "\n",
        "# Make predictions on the test data\n",
        "rf_predictions = cv_model_rf.transform(test_data)\n",
        "\n",
        "# Evaluate the model\n",
        "rf_accuracy = evaluator_accuracy.evaluate(rf_predictions)\n",
        "print(f\"\\nRandomForest Model (Tuned) Accuracy: {rf_accuracy:.3f}\")"
      ],
      "metadata": {
        "colab": {
          "base_uri": "https://localhost:8080/"
        },
        "id": "GCDoQoldoQ9-",
        "outputId": "377c5616-8622-4265-ff8c-6da54d41b331"
      },
      "execution_count": 16,
      "outputs": [
        {
          "output_type": "stream",
          "name": "stdout",
          "text": [
            "\n",
            "RandomForest Model (Tuned) Accuracy: 0.848\n"
          ]
        }
      ]
    },
    {
      "cell_type": "markdown",
      "source": [
        "### 7. Train and Evaluate GBT Model\n",
        "Next, we train a `GradientBoostedTrees (GBT)` classifier. GBT is another powerful ensemble algorithm known for its high accuracy on tabular data. We train it with a fixed number of iterations (`maxIter=20`) on the training data and then evaluate its performance on the test set."
      ],
      "metadata": {
        "id": "rENlsWtDSLn9"
      }
    },
    {
      "cell_type": "code",
      "source": [
        "# Define and train the GBT model\n",
        "gbt = GBTClassifier(featuresCol=\"features\", labelCol=\"label\", maxIter=20, seed=42)\n",
        "gbt_model = gbt.fit(train_data)\n",
        "\n",
        "# Make predictions\n",
        "gbt_predictions = gbt_model.transform(test_data)\n",
        "\n",
        "# Evaluate the GBT model\n",
        "gbt_accuracy = evaluator_accuracy.evaluate(gbt_predictions)\n",
        "print(f\"\\nGBT Model Accuracy: {gbt_accuracy:.3f}\")"
      ],
      "metadata": {
        "colab": {
          "base_uri": "https://localhost:8080/"
        },
        "id": "oSc9UAudoRA4",
        "outputId": "b27cca35-05d8-4184-b548-f326cff968d9"
      },
      "execution_count": 17,
      "outputs": [
        {
          "output_type": "stream",
          "name": "stdout",
          "text": [
            "\n",
            "GBT Model Accuracy: 0.816\n"
          ]
        }
      ]
    },
    {
      "cell_type": "markdown",
      "source": [
        "### 8. Feature Importance Analysis\n",
        "To better understand what our `RandomForest` model has learned, we analyze its feature importances. This shows which features had the most influence on the model's predictions. High-importance features are the most critical for distinguishing between patients with and without heart disease. This step provides valuable insights into the data and validates that the model is learning medically relevant patterns."
      ],
      "metadata": {
        "id": "gAwK3E27SPMW"
      }
    },
    {
      "cell_type": "code",
      "source": [
        "# Extract the best model from the CrossValidator\n",
        "best_rf_model = cv_model_rf.bestModel\n",
        "\n",
        "# Get feature importances\n",
        "feature_importances = best_rf_model.featureImportances\n",
        "\n",
        "# Match feature names to importance scores\n",
        "# Note: The order comes from the final assembler stage in the pipeline\n",
        "final_cols_for_importance = numeric_cols + [c + \"_indexed\" for c in categorical_cols]\n",
        "importances_df = pd.DataFrame(\n",
        "    list(zip(final_cols_for_importance, feature_importances)),\n",
        "    columns=['feature', 'importance']\n",
        ").sort_values('importance', ascending=False)\n",
        "\n",
        "print(\"\\nTop 10 Feature Importances in RandomForest Model:\")\n",
        "print(importances_df.head(10))"
      ],
      "metadata": {
        "colab": {
          "base_uri": "https://localhost:8080/"
        },
        "id": "HGHgd79HoRD2",
        "outputId": "d45f5300-0c91-42a2-e15d-e310b367b708"
      },
      "execution_count": 18,
      "outputs": [
        {
          "output_type": "stream",
          "name": "stdout",
          "text": [
            "\n",
            "Top 10 Feature Importances in RandomForest Model:\n",
            "            feature  importance\n",
            "6        cp_indexed    0.179201\n",
            "4           oldpeak    0.129626\n",
            "0               age    0.122929\n",
            "9     exang_indexed    0.107154\n",
            "3            thalch    0.095359\n",
            "2              chol    0.076863\n",
            "1          trestbps    0.076385\n",
            "5       sex_indexed    0.058375\n",
            "12     thal_indexed    0.045138\n",
            "8   restecg_indexed    0.031361\n"
          ]
        }
      ]
    },
    {
      "cell_type": "markdown",
      "source": [
        "### 9. Confusion Matrix Visualization\n",
        "Accuracy provides a single performance metric, but a confusion matrix offers a more detailed breakdown. It visualizes the performance of each model by showing:\n",
        "- **True Positives (TP):** Correctly predicted as having disease.\n",
        "- **True Negatives (TN):** Correctly predicted as not having disease.\n",
        "- **False Positives (FP):** Incorrectly predicted as having disease.\n",
        "- **False Negatives (FN):** Incorrectly predicted as not having disease.\n",
        "\n",
        "This helps us understand what kind of errors our models are making."
      ],
      "metadata": {
        "id": "HBBa4vnCSXai"
      }
    },
    {
      "cell_type": "code",
      "source": [
        "def plot_confusion_matrix(predictions, model_name):\n",
        "    \"\"\"A helper function to plot a confusion matrix.\"\"\"\n",
        "    preds_and_labels = predictions.select(['prediction', 'label']).rdd.map(\n",
        "        lambda row: (float(row.prediction), float(row.label))\n",
        "    )\n",
        "    metrics = MulticlassMetrics(preds_and_labels)\n",
        "    confusion_matrix = metrics.confusionMatrix().toArray()\n",
        "\n",
        "    plt.figure(figsize=(6, 5))\n",
        "    sns.heatmap(\n",
        "        confusion_matrix, annot=True, fmt='.0f', cmap='Blues',\n",
        "        xticklabels=['No Disease (0)', 'Disease (1)'],\n",
        "        yticklabels=['No Disease (0)', 'Disease (1)']\n",
        "    )\n",
        "    plt.xlabel('Predicted Label')\n",
        "    plt.ylabel('True Label')\n",
        "    plt.title(f'Confusion Matrix for {model_name}')\n",
        "    plt.show()\n",
        "\n",
        "# Plot for both models\n",
        "plot_confusion_matrix(rf_predictions, \"RandomForest\")\n",
        "plot_confusion_matrix(gbt_predictions, \"GBT\")"
      ],
      "metadata": {
        "colab": {
          "base_uri": "https://localhost:8080/",
          "height": 1000
        },
        "id": "IXRe0kT3oRJ9",
        "outputId": "226e014b-76ac-4958-f3d8-90298672dcb7"
      },
      "execution_count": 19,
      "outputs": [
        {
          "output_type": "stream",
          "name": "stderr",
          "text": [
            "/usr/local/lib/python3.11/dist-packages/pyspark/sql/context.py:158: FutureWarning: Deprecated in 3.0.0. Use SparkSession.builder.getOrCreate() instead.\n",
            "  warnings.warn(\n"
          ]
        },
        {
          "output_type": "display_data",
          "data": {
            "text/plain": [
              "<Figure size 600x500 with 2 Axes>"
            ],
            "image/png": "[encoded data removed]"
          },
          "metadata": {}
        },
        {
          "output_type": "stream",
          "name": "stderr",
          "text": [
            "/usr/local/lib/python3.11/dist-packages/pyspark/sql/context.py:158: FutureWarning: Deprecated in 3.0.0. Use SparkSession.builder.getOrCreate() instead.\n",
            "  warnings.warn(\n"
          ]
        },
        {
          "output_type": "display_data",
          "data": {
            "text/plain": [
              "<Figure size 600x500 with 2 Axes>"
            ],
            "image/png": "[encoded data removed]"
          },
          "metadata": {}
        }
      ]
    },
    {
      "cell_type": "markdown",
      "source": [
        "### 10. Stop Spark Session\n",
        "Finally, we stop the `SparkSession`. This is a crucial cleanup step that releases all the computational resources (memory and CPU cores) used by Spark, ensuring the notebook environment remains clean."
      ],
      "metadata": {
        "id": "ME-HSH6NScaU"
      }
    },
    {
      "cell_type": "code",
      "source": [
        "spark.stop()\n",
        "print(\"SparkSession stopped.\")"
      ],
      "metadata": {
        "colab": {
          "base_uri": "https://localhost:8080/"
        },
        "id": "1rObCpqWoRMS",
        "outputId": "06453919-52f9-4e28-9d24-8005d65c0c1f"
      },
      "execution_count": 20,
      "outputs": [
        {
          "output_type": "stream",
          "name": "stdout",
          "text": [
            "SparkSession stopped.\n"
          ]
        }
      ]
    }
  ]
}